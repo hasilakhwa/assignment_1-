{
 "cells": [
  {
   "cell_type": "code",
   "execution_count": 40,
   "id": "8a7fe341",
   "metadata": {},
   "outputs": [
    {
     "name": "stdout",
     "output_type": "stream",
     "text": [
      "Enter your salary=500000\n",
      "Enter your service year=6\n",
      "25000.0\n"
     ]
    }
   ],
   "source": [
    " #Q1) A company decided to give bonus of 5% to employee if his/her year of service is more than 5 years. Ask user for their salary and year of\n",
    "#service and print the net bonus amount.\n",
    "salary = float(input(\"Enter your salary=\"))\n",
    "service = float(input(\"Enter your service year=\"))\n",
    "if service>5:\n",
    "    bonus = salary/100*5\n",
    "    print(float(bonus))\n",
    "else:\n",
    "    print(\"You aren't suitable for bonus:\")\n",
    "\n",
    "  "
   ]
  },
  {
   "cell_type": "code",
   "execution_count": 41,
   "id": "c7e55ce7",
   "metadata": {},
   "outputs": [
    {
     "name": "stdout",
     "output_type": "stream",
     "text": [
      "Enter your age=36\n",
      "You are accepetable for voting.\n"
     ]
    }
   ],
   "source": [
    "#2) Write a program to check whether a person is eligible for voting or not. (accept age from user) if age is greater than 17 eligible otherwise not\n",
    "#eligible\n",
    "age =int(input(\"Enter your age=\"))\n",
    "if age>17:\n",
    "    print(\"You are accepetable for voting.\")\n",
    "else:\n",
    "    print(\"You aren't accecptable for voting.\")\n"
   ]
  },
  {
   "cell_type": "code",
   "execution_count": 43,
   "id": "1aa30084",
   "metadata": {},
   "outputs": [
    {
     "name": "stdout",
     "output_type": "stream",
     "text": [
      "Enter your number=88765434576987099768543776797575354258797573\n",
      "Your number is odd\n"
     ]
    }
   ],
   "source": [
    "#3) Write a program to check whether a number entered by user is even or odd.\n",
    "num = int(input(\"Enter your number=\"))\n",
    "if num%2==0:\n",
    "    print(\"Your number is even\")\n",
    "else:\n",
    "    print(\"Your number is odd\")"
   ]
  },
  {
   "cell_type": "code",
   "execution_count": 45,
   "id": "035beb0c",
   "metadata": {},
   "outputs": [
    {
     "name": "stdout",
     "output_type": "stream",
     "text": [
      "Enter your number=45213\n",
      "It is divisible by 7\n"
     ]
    }
   ],
   "source": [
    "#Q4) Write a program to check whether a number is divisible by 7 or not. Show Answer\n",
    "num = int(input(\"Enter your number=\"))\n",
    "if num%7==0:\n",
    "    print(\"It is divisible by 7\")\n",
    "else:\n",
    "    print(\"It isn't divisible by 7\")\n",
    " "
   ]
  },
  {
   "cell_type": "code",
   "execution_count": 46,
   "id": "7d0d63d7",
   "metadata": {},
   "outputs": [
    {
     "name": "stdout",
     "output_type": "stream",
     "text": [
      "Enter your number=7894651325\n",
      "Hello\n"
     ]
    }
   ],
   "source": [
    "#Q5) Write a program to display \"Hello\" if a number entered by user is a multiple of five , otherwise print \"Bye\".\n",
    "num = int(input(\"Enter your number=\"))\n",
    "if num%5==0:\n",
    "    print(\"Hello\")\n",
    "else:\n",
    "    print(\"Bye\")"
   ]
  },
  {
   "cell_type": "code",
   "execution_count": 6,
   "id": "5126ca5b",
   "metadata": {},
   "outputs": [
    {
     "name": "stdout",
     "output_type": "stream",
     "text": [
      "Enter your consumed unit=800\n",
      "8000.0RS\n"
     ]
    }
   ],
   "source": [
    "#Q6) Write a program to calculate the electricity bill (accept number of unit from user) according to the following criteria:\n",
    "#Unit Price uptp 100 units no charge Next 200 units Rs 5 per unit After 200 units Rs 10 per unit (For example if input unit is\n",
    "#350 than total bill amount is Rs.3500(For example if input unit is 97 than total bill amount is Rs.0 (For example if input unit\n",
    "#is 150 than total bill amount is Rs.750\n",
    "units = float(input(\"Enter your consumed unit=\"))\n",
    "if units<=100:\n",
    "    print(\"0 RS\")\n",
    "elif 100<units<=300:\n",
    "    print(f\"{units*5}RS\")\n",
    "elif units>300:\n",
    "    print(f\"{units*10}RS\")\n"
   ]
  },
  {
   "cell_type": "code",
   "execution_count": 9,
   "id": "a3c8c202",
   "metadata": {},
   "outputs": [
    {
     "name": "stdout",
     "output_type": "stream",
     "text": [
      "Enter a number:7764656975724787755434589876267890987657909876546788\n",
      "8\n"
     ]
    }
   ],
   "source": [
    "#Q7) Write a program to display the last digit of a number.\n",
    "num = int(input(\"Enter a number:\"))\n",
    "print(num%10)\n"
   ]
  },
  {
   "cell_type": "code",
   "execution_count": 12,
   "id": "ca7c5499",
   "metadata": {},
   "outputs": [
    {
     "name": "stdout",
     "output_type": "stream",
     "text": [
      "Enter a number: 8888\n",
      "the last nunmber is not divisible by 3.\n"
     ]
    }
   ],
   "source": [
    "#Q8. Write a program to check whether the last digit of a number( entered by user ) is divisible by 3 or not.\n",
    "number = int(input(\"Enter a number: \"))\n",
    "new_num = number%10\n",
    "is_divisible = new_num%3\n",
    "\n",
    "if is_divisible == 0:\n",
    "    print(f\" {new_num} is divisible by 3\")\n",
    "else:\n",
    "    print(\"The last nunmber is not divisible by 3.\")\n",
    "    "
   ]
  },
  {
   "cell_type": "code",
   "execution_count": 14,
   "id": "1767f4fb",
   "metadata": {},
   "outputs": [
    {
     "name": "stdout",
     "output_type": "stream",
     "text": [
      "Enter your length size76\n",
      "Enter your breath size78\n",
      "Its Rectangle\n"
     ]
    }
   ],
   "source": [
    "#Q9) Take values of length and breadth of a rectangle from user and print if it is square or rectangle.\n",
    "length = int(input(\"Enter your length size\"))\n",
    "breath = int(input(\"Enter your breath size\"))\n",
    "if length==breath:\n",
    "    print(\"Its Square\")\n",
    "else:\n",
    "    print(\"Its Rectangle\")\n",
    "    "
   ]
  },
  {
   "cell_type": "code",
   "execution_count": 16,
   "id": "fb1ee6ab",
   "metadata": {},
   "outputs": [
    {
     "name": "stdout",
     "output_type": "stream",
     "text": [
      "Enter first value: 5536\n",
      "Enter second value: 7572\n",
      "7572\n"
     ]
    }
   ],
   "source": [
    "#Q10) Take two int values from user and print greatest among them.\n",
    "num_1 = int(input(\"Enter first value: \"))\n",
    "num_2 = int(input(\"Enter second value: \"))\n",
    "\n",
    "if num_1>num_2:\n",
    "    print(f\"{num_1}\")\n",
    "else:\n",
    "    print(f\"{num_2}\")"
   ]
  },
  {
   "cell_type": "code",
   "execution_count": 34,
   "id": "0a926997",
   "metadata": {},
   "outputs": [
    {
     "name": "stdout",
     "output_type": "stream",
     "text": [
      "Enter the quantity: 10000\n",
      "Total cost: 900000.0\n"
     ]
    }
   ],
   "source": [
    "#Q11) A shop will give discount of 10% if the cost of purchased quantity is more than 1000. Ask user for quantity Suppose,\n",
    "#one unit will cost 100.Judge and print total cost for user.\n",
    "quantity = int(input(\"Enter the quantity: \"))\n",
    "cost_per_unit = 100\n",
    "total_cost = quantity * cost_per_unit\n",
    "if total_cost > 1000:\n",
    "    discount = 0.10 * total_cost\n",
    "    total_cost -= discount\n",
    "print(f\"Total cost: {total_cost}\")    "
   ]
  },
  {
   "cell_type": "code",
   "execution_count": 28,
   "id": "00e668ec",
   "metadata": {},
   "outputs": [
    {
     "name": "stdout",
     "output_type": "stream",
     "text": [
      "Enter your marks: 102\n",
      " mathematics error\n"
     ]
    }
   ],
   "source": [
    "#Q12) A school has following rules for grading system:\n",
    "\n",
    "#a. Below 25 - F\n",
    "\n",
    "#b. 25 to 45 - E\n",
    "\n",
    "#c. 45 to 50 - D\n",
    "\n",
    "#d. 50 to 60 - C\n",
    "\n",
    "#e. 60 to 80 - B\n",
    "\n",
    "#f. Above 80 - A\n",
    "\n",
    "#Ask user to enter marks and print the corresponding grade.\n",
    "marks_scored = int(input(\"Enter your marks: \"))\n",
    "\n",
    "if marks_scored<25:\n",
    "    print(\"You got a F.\")\n",
    "elif 25<=marks_scored<=45:\n",
    "    print(\"You got an E.\")\n",
    "elif 45<=marks_scored<=50:\n",
    "    print(\"You got a D.\")\n",
    "elif 50<=marks_scored<=60:\n",
    "    print(\"You got a C.\")\n",
    "elif 60<=marks_scored<=80:\n",
    "    print(\"You got a B.\")\n",
    "elif marks_scored>80==100:\n",
    "    print(\"You got an A.\")\n",
    "else:\n",
    "    print(\" mathematics error\")"
   ]
  },
  {
   "cell_type": "code",
   "execution_count": 30,
   "id": "d104e53d",
   "metadata": {},
   "outputs": [
    {
     "name": "stdout",
     "output_type": "stream",
     "text": [
      "Enter age of person 1: 456\n",
      "Enter age of person 2: 764\n",
      "Enter age of person 3: 577\n",
      "The oldest person is 764 years old.\n",
      "The youngest person is 456 years old.\n"
     ]
    }
   ],
   "source": [
    "#Q13) Take input of age of 3 people by user and determine oldest and youngest among them.\n",
    "age1 = int(input(\"Enter age of person 1: \"))\n",
    "age2 = int(input(\"Enter age of person 2: \"))\n",
    "age3 = int(input(\"Enter age of person 3: \"))\n",
    "if age1 >= age2 and age1 >= age3:\n",
    "    oldest = age1\n",
    "elif age2 >= age1 and age2 >= age3:\n",
    "    oldest = age2\n",
    "else:\n",
    "    oldest = age3\n",
    "\n",
    "if age1 <= age2 and age1 <= age3:\n",
    "    youngest = age1\n",
    "elif age2 <= age1 and age2 <= age3:\n",
    "    youngest = age2\n",
    "else:\n",
    "    youngest = age3\n",
    "print(f\"The oldest person is {oldest} years old.\")\n",
    "print(f\"The youngest person is {youngest} years old.\")"
   ]
  },
  {
   "cell_type": "code",
   "execution_count": 36,
   "id": "1de6ecfe",
   "metadata": {},
   "outputs": [
    {
     "name": "stdout",
     "output_type": "stream",
     "text": [
      "How many classes were held? 100\n",
      "How many classes were attended by you? 74\n",
      "Your attendance percentage is 74.0;you are not allowed to sit in exam.\n"
     ]
    }
   ],
   "source": [
    "#Q14) A student will not be allowed to sit in exam if his/her attendence is less than 75%.\n",
    "\n",
    "#Take following input from user\n",
    "\n",
    "#Number of classes held\n",
    "\n",
    "#Number of classes attended.\n",
    "\n",
    "#And print\n",
    "\n",
    "#percentage of class attended\n",
    "\n",
    "#Is student is allowed to sit in exam or not.\n",
    "Number_of_classes_held = int(input(\"How many classes were held? \"))\n",
    "Number_of_classes_attended = int(input(\"How many classes were attended by you? \"))\n",
    "percentage_of_attendence = (Number_of_classes_attended/Number_of_classes_held)*100\n",
    "\n",
    "if percentage_of_attendence>75:\n",
    "    print(f\"Your attendance percentage is {percentage_of_attendence};you are allowed to sit in exam.\")\n",
    "else:\n",
    "    print(f\"Your attendance percentage is {percentage_of_attendence};you are not allowed to sit in exam.\")"
   ]
  },
  {
   "cell_type": "code",
   "execution_count": 38,
   "id": "a18b4394",
   "metadata": {},
   "outputs": [
    {
     "name": "stdout",
     "output_type": "stream",
     "text": [
      "Do you have a medicial cause, (Y/N)? Y\n",
      "you are allowed to sit in exam.\n"
     ]
    }
   ],
   "source": [
    "#Q15) Modify the above question to allow student to sit if he/she has medical cause. Ask user if he/she has medical cause or not\n",
    "#( 'Y' or 'N' ) and print accordingly.\n",
    "health_issue = input(\"Do you have a medicial cause, (Y/N)? \")\n",
    "\n",
    "if health_issue ==\"Y\":\n",
    "    print(\"you are allowed to sit in exam.\")\n",
    "else:\n",
    "    print(\"no more accuses\")"
   ]
  },
  {
   "cell_type": "code",
   "execution_count": 40,
   "id": "9f205468",
   "metadata": {},
   "outputs": [
    {
     "name": "stdout",
     "output_type": "stream",
     "text": [
      "Enter the year: 2004\n",
      "2004 is a leap year\n"
     ]
    }
   ],
   "source": [
    "#Q16) Write a program to check if a year is leap year or not.\n",
    "\n",
    "#If a year is divisible by 4 then it is leap year but if the year is century year like 2000, 1900, 2100 then it must be\n",
    "#divisible by 400.\n",
    "year = int(input(\"Enter the year: \"))\n",
    "\n",
    "if year%4==0:\n",
    "    print(f\"{year} is a leap year\")\n",
    "else:\n",
    "    print(f\"{year} is not a leap year.\")"
   ]
  },
  {
   "cell_type": "code",
   "execution_count": 41,
   "id": "6934e8ba",
   "metadata": {},
   "outputs": [
    {
     "name": "stdout",
     "output_type": "stream",
     "text": [
      "Enter your age: 45\n",
      "Enter your gender (M or F): M\n",
      "What is your martial status (Y/N): Y\n",
      "You will only work in urban areas.\n"
     ]
    }
   ],
   "source": [
    "#Q17) Ask user to enter age, gender ( M or F ), marital status ( Y or N ) and then using following rules print their place of\n",
    "#service.\n",
    "\n",
    "#if employee is female, then she will work only in urban areas.\n",
    "\n",
    "#if employee is a male and age is in between 20 to 40 then he may work in anywhere\n",
    "\n",
    "#if employee is male and age is in between 40 t0 60 then he will work in urban areas only.\n",
    "\n",
    "#And any other input of age should print \"ERROR\"\n",
    "age = int(input(\"Enter your age: \"))\n",
    "gender = input(\"Enter your gender (M or F): \")\n",
    "martial_status = input(\"What is your martial status (Y/N): \")\n",
    "\n",
    "if gender==\"F\":\n",
    "    print(\"You will only work in urban areas.\")\n",
    "elif gender==\"M\":\n",
    "    if 20<=age<=40:\n",
    "        print(\"You can work anywhere.\")\n",
    "    elif 40<=age<=60:\n",
    "        print(\"You will only work in urban areas.\")\n",
    "else:\n",
    "    print(\"ERROR\")"
   ]
  },
  {
   "cell_type": "code",
   "execution_count": null,
   "id": "ad8761a9",
   "metadata": {},
   "outputs": [],
   "source": []
  }
 ],
 "metadata": {
  "kernelspec": {
   "display_name": "Python 3 (ipykernel)",
   "language": "python",
   "name": "python3"
  },
  "language_info": {
   "codemirror_mode": {
    "name": "ipython",
    "version": 3
   },
   "file_extension": ".py",
   "mimetype": "text/x-python",
   "name": "python",
   "nbconvert_exporter": "python",
   "pygments_lexer": "ipython3",
   "version": "3.11.5"
  }
 },
 "nbformat": 4,
 "nbformat_minor": 5
}
